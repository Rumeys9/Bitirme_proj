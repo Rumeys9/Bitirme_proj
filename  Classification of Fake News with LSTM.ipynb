{
 "cells": [
  {
   "cell_type": "code",
   "execution_count": 1,
   "metadata": {},
   "outputs": [],
   "source": [
    "import numpy as np\n",
    "import pandas as pd\n",
    "import matplotlib.pyplot as plt\n",
    "import seaborn as sns\n",
    "from datetime import datetime\n",
    "\n",
    "import warnings\n",
    "warnings.filterwarnings('ignore')\n",
    "\n",
    "import tensorflow as tf"
   ]
  },
  {
   "cell_type": "code",
   "execution_count": 3,
   "metadata": {},
   "outputs": [
    {
     "name": "stdout",
     "output_type": "stream",
     "text": [
      "zsh:1: command not found: nvidia-smi\r\n"
     ]
    }
   ],
   "source": [
    "#!nvidia-smi\n"
   ]
  },
  {
   "cell_type": "code",
   "execution_count": 2,
   "metadata": {
    "scrolled": false
   },
   "outputs": [
    {
     "data": {
      "text/html": [
       "<div>\n",
       "<style scoped>\n",
       "    .dataframe tbody tr th:only-of-type {\n",
       "        vertical-align: middle;\n",
       "    }\n",
       "\n",
       "    .dataframe tbody tr th {\n",
       "        vertical-align: top;\n",
       "    }\n",
       "\n",
       "    .dataframe thead th {\n",
       "        text-align: right;\n",
       "    }\n",
       "</style>\n",
       "<table border=\"1\" class=\"dataframe\">\n",
       "  <thead>\n",
       "    <tr style=\"text-align: right;\">\n",
       "      <th></th>\n",
       "      <th>title</th>\n",
       "      <th>text</th>\n",
       "      <th>subject</th>\n",
       "      <th>date</th>\n",
       "    </tr>\n",
       "  </thead>\n",
       "  <tbody>\n",
       "    <tr>\n",
       "      <th>0</th>\n",
       "      <td>Donald Trump Sends Out Embarrassing New Year’...</td>\n",
       "      <td>Donald Trump just couldn t wish all Americans ...</td>\n",
       "      <td>News</td>\n",
       "      <td>December 31, 2017</td>\n",
       "    </tr>\n",
       "    <tr>\n",
       "      <th>1</th>\n",
       "      <td>Drunk Bragging Trump Staffer Started Russian ...</td>\n",
       "      <td>House Intelligence Committee Chairman Devin Nu...</td>\n",
       "      <td>News</td>\n",
       "      <td>December 31, 2017</td>\n",
       "    </tr>\n",
       "    <tr>\n",
       "      <th>2</th>\n",
       "      <td>Sheriff David Clarke Becomes An Internet Joke...</td>\n",
       "      <td>On Friday, it was revealed that former Milwauk...</td>\n",
       "      <td>News</td>\n",
       "      <td>December 30, 2017</td>\n",
       "    </tr>\n",
       "    <tr>\n",
       "      <th>3</th>\n",
       "      <td>Trump Is So Obsessed He Even Has Obama’s Name...</td>\n",
       "      <td>On Christmas day, Donald Trump announced that ...</td>\n",
       "      <td>News</td>\n",
       "      <td>December 29, 2017</td>\n",
       "    </tr>\n",
       "    <tr>\n",
       "      <th>4</th>\n",
       "      <td>Pope Francis Just Called Out Donald Trump Dur...</td>\n",
       "      <td>Pope Francis used his annual Christmas Day mes...</td>\n",
       "      <td>News</td>\n",
       "      <td>December 25, 2017</td>\n",
       "    </tr>\n",
       "  </tbody>\n",
       "</table>\n",
       "</div>"
      ],
      "text/plain": [
       "                                               title  \\\n",
       "0   Donald Trump Sends Out Embarrassing New Year’...   \n",
       "1   Drunk Bragging Trump Staffer Started Russian ...   \n",
       "2   Sheriff David Clarke Becomes An Internet Joke...   \n",
       "3   Trump Is So Obsessed He Even Has Obama’s Name...   \n",
       "4   Pope Francis Just Called Out Donald Trump Dur...   \n",
       "\n",
       "                                                text subject  \\\n",
       "0  Donald Trump just couldn t wish all Americans ...    News   \n",
       "1  House Intelligence Committee Chairman Devin Nu...    News   \n",
       "2  On Friday, it was revealed that former Milwauk...    News   \n",
       "3  On Christmas day, Donald Trump announced that ...    News   \n",
       "4  Pope Francis used his annual Christmas Day mes...    News   \n",
       "\n",
       "                date  \n",
       "0  December 31, 2017  \n",
       "1  December 31, 2017  \n",
       "2  December 30, 2017  \n",
       "3  December 29, 2017  \n",
       "4  December 25, 2017  "
      ]
     },
     "execution_count": 2,
     "metadata": {},
     "output_type": "execute_result"
    }
   ],
   "source": [
    "fake_news = pd.read_csv(\"Fake.csv\")\n",
    "fake_news.head()"
   ]
  },
  {
   "cell_type": "code",
   "execution_count": 3,
   "metadata": {},
   "outputs": [
    {
     "data": {
      "text/html": [
       "<div>\n",
       "<style scoped>\n",
       "    .dataframe tbody tr th:only-of-type {\n",
       "        vertical-align: middle;\n",
       "    }\n",
       "\n",
       "    .dataframe tbody tr th {\n",
       "        vertical-align: top;\n",
       "    }\n",
       "\n",
       "    .dataframe thead th {\n",
       "        text-align: right;\n",
       "    }\n",
       "</style>\n",
       "<table border=\"1\" class=\"dataframe\">\n",
       "  <thead>\n",
       "    <tr style=\"text-align: right;\">\n",
       "      <th></th>\n",
       "      <th>title</th>\n",
       "      <th>text</th>\n",
       "      <th>subject</th>\n",
       "      <th>date</th>\n",
       "    </tr>\n",
       "  </thead>\n",
       "  <tbody>\n",
       "    <tr>\n",
       "      <th>0</th>\n",
       "      <td>As U.S. budget fight looms, Republicans flip t...</td>\n",
       "      <td>WASHINGTON (Reuters) - The head of a conservat...</td>\n",
       "      <td>politicsNews</td>\n",
       "      <td>December 31, 2017</td>\n",
       "    </tr>\n",
       "    <tr>\n",
       "      <th>1</th>\n",
       "      <td>U.S. military to accept transgender recruits o...</td>\n",
       "      <td>WASHINGTON (Reuters) - Transgender people will...</td>\n",
       "      <td>politicsNews</td>\n",
       "      <td>December 29, 2017</td>\n",
       "    </tr>\n",
       "    <tr>\n",
       "      <th>2</th>\n",
       "      <td>Senior U.S. Republican senator: 'Let Mr. Muell...</td>\n",
       "      <td>WASHINGTON (Reuters) - The special counsel inv...</td>\n",
       "      <td>politicsNews</td>\n",
       "      <td>December 31, 2017</td>\n",
       "    </tr>\n",
       "    <tr>\n",
       "      <th>3</th>\n",
       "      <td>FBI Russia probe helped by Australian diplomat...</td>\n",
       "      <td>WASHINGTON (Reuters) - Trump campaign adviser ...</td>\n",
       "      <td>politicsNews</td>\n",
       "      <td>December 30, 2017</td>\n",
       "    </tr>\n",
       "    <tr>\n",
       "      <th>4</th>\n",
       "      <td>Trump wants Postal Service to charge 'much mor...</td>\n",
       "      <td>SEATTLE/WASHINGTON (Reuters) - President Donal...</td>\n",
       "      <td>politicsNews</td>\n",
       "      <td>December 29, 2017</td>\n",
       "    </tr>\n",
       "  </tbody>\n",
       "</table>\n",
       "</div>"
      ],
      "text/plain": [
       "                                               title  \\\n",
       "0  As U.S. budget fight looms, Republicans flip t...   \n",
       "1  U.S. military to accept transgender recruits o...   \n",
       "2  Senior U.S. Republican senator: 'Let Mr. Muell...   \n",
       "3  FBI Russia probe helped by Australian diplomat...   \n",
       "4  Trump wants Postal Service to charge 'much mor...   \n",
       "\n",
       "                                                text       subject  \\\n",
       "0  WASHINGTON (Reuters) - The head of a conservat...  politicsNews   \n",
       "1  WASHINGTON (Reuters) - Transgender people will...  politicsNews   \n",
       "2  WASHINGTON (Reuters) - The special counsel inv...  politicsNews   \n",
       "3  WASHINGTON (Reuters) - Trump campaign adviser ...  politicsNews   \n",
       "4  SEATTLE/WASHINGTON (Reuters) - President Donal...  politicsNews   \n",
       "\n",
       "                 date  \n",
       "0  December 31, 2017   \n",
       "1  December 29, 2017   \n",
       "2  December 31, 2017   \n",
       "3  December 30, 2017   \n",
       "4  December 29, 2017   "
      ]
     },
     "execution_count": 3,
     "metadata": {},
     "output_type": "execute_result"
    }
   ],
   "source": [
    "true_news = pd.read_csv(\"True.csv\")\n",
    "true_news.head()"
   ]
  },
  {
   "cell_type": "code",
   "execution_count": 4,
   "metadata": {},
   "outputs": [
    {
     "data": {
      "text/html": [
       "<div>\n",
       "<style scoped>\n",
       "    .dataframe tbody tr th:only-of-type {\n",
       "        vertical-align: middle;\n",
       "    }\n",
       "\n",
       "    .dataframe tbody tr th {\n",
       "        vertical-align: top;\n",
       "    }\n",
       "\n",
       "    .dataframe thead th {\n",
       "        text-align: right;\n",
       "    }\n",
       "</style>\n",
       "<table border=\"1\" class=\"dataframe\">\n",
       "  <thead>\n",
       "    <tr style=\"text-align: right;\">\n",
       "      <th></th>\n",
       "      <th>title</th>\n",
       "      <th>text</th>\n",
       "      <th>subject</th>\n",
       "      <th>date</th>\n",
       "      <th>fake</th>\n",
       "    </tr>\n",
       "  </thead>\n",
       "  <tbody>\n",
       "    <tr>\n",
       "      <th>0</th>\n",
       "      <td>Donald Trump Sends Out Embarrassing New Year’...</td>\n",
       "      <td>Donald Trump just couldn t wish all Americans ...</td>\n",
       "      <td>News</td>\n",
       "      <td>December 31, 2017</td>\n",
       "      <td>1</td>\n",
       "    </tr>\n",
       "    <tr>\n",
       "      <th>1</th>\n",
       "      <td>Drunk Bragging Trump Staffer Started Russian ...</td>\n",
       "      <td>House Intelligence Committee Chairman Devin Nu...</td>\n",
       "      <td>News</td>\n",
       "      <td>December 31, 2017</td>\n",
       "      <td>1</td>\n",
       "    </tr>\n",
       "    <tr>\n",
       "      <th>2</th>\n",
       "      <td>Sheriff David Clarke Becomes An Internet Joke...</td>\n",
       "      <td>On Friday, it was revealed that former Milwauk...</td>\n",
       "      <td>News</td>\n",
       "      <td>December 30, 2017</td>\n",
       "      <td>1</td>\n",
       "    </tr>\n",
       "    <tr>\n",
       "      <th>3</th>\n",
       "      <td>Trump Is So Obsessed He Even Has Obama’s Name...</td>\n",
       "      <td>On Christmas day, Donald Trump announced that ...</td>\n",
       "      <td>News</td>\n",
       "      <td>December 29, 2017</td>\n",
       "      <td>1</td>\n",
       "    </tr>\n",
       "    <tr>\n",
       "      <th>4</th>\n",
       "      <td>Pope Francis Just Called Out Donald Trump Dur...</td>\n",
       "      <td>Pope Francis used his annual Christmas Day mes...</td>\n",
       "      <td>News</td>\n",
       "      <td>December 25, 2017</td>\n",
       "      <td>1</td>\n",
       "    </tr>\n",
       "  </tbody>\n",
       "</table>\n",
       "</div>"
      ],
      "text/plain": [
       "                                               title  \\\n",
       "0   Donald Trump Sends Out Embarrassing New Year’...   \n",
       "1   Drunk Bragging Trump Staffer Started Russian ...   \n",
       "2   Sheriff David Clarke Becomes An Internet Joke...   \n",
       "3   Trump Is So Obsessed He Even Has Obama’s Name...   \n",
       "4   Pope Francis Just Called Out Donald Trump Dur...   \n",
       "\n",
       "                                                text subject  \\\n",
       "0  Donald Trump just couldn t wish all Americans ...    News   \n",
       "1  House Intelligence Committee Chairman Devin Nu...    News   \n",
       "2  On Friday, it was revealed that former Milwauk...    News   \n",
       "3  On Christmas day, Donald Trump announced that ...    News   \n",
       "4  Pope Francis used his annual Christmas Day mes...    News   \n",
       "\n",
       "                date  fake  \n",
       "0  December 31, 2017     1  \n",
       "1  December 31, 2017     1  \n",
       "2  December 30, 2017     1  \n",
       "3  December 29, 2017     1  \n",
       "4  December 25, 2017     1  "
      ]
     },
     "execution_count": 4,
     "metadata": {},
     "output_type": "execute_result"
    }
   ],
   "source": [
    "# Create a column with fake=1 in fake_news dataset\n",
    "fake_news['fake']=1\n",
    "fake_news.head()"
   ]
  },
  {
   "cell_type": "code",
   "execution_count": 5,
   "metadata": {},
   "outputs": [
    {
     "data": {
      "text/html": [
       "<div>\n",
       "<style scoped>\n",
       "    .dataframe tbody tr th:only-of-type {\n",
       "        vertical-align: middle;\n",
       "    }\n",
       "\n",
       "    .dataframe tbody tr th {\n",
       "        vertical-align: top;\n",
       "    }\n",
       "\n",
       "    .dataframe thead th {\n",
       "        text-align: right;\n",
       "    }\n",
       "</style>\n",
       "<table border=\"1\" class=\"dataframe\">\n",
       "  <thead>\n",
       "    <tr style=\"text-align: right;\">\n",
       "      <th></th>\n",
       "      <th>title</th>\n",
       "      <th>text</th>\n",
       "      <th>subject</th>\n",
       "      <th>date</th>\n",
       "      <th>fake</th>\n",
       "    </tr>\n",
       "  </thead>\n",
       "  <tbody>\n",
       "    <tr>\n",
       "      <th>0</th>\n",
       "      <td>As U.S. budget fight looms, Republicans flip t...</td>\n",
       "      <td>WASHINGTON (Reuters) - The head of a conservat...</td>\n",
       "      <td>politicsNews</td>\n",
       "      <td>December 31, 2017</td>\n",
       "      <td>0</td>\n",
       "    </tr>\n",
       "    <tr>\n",
       "      <th>1</th>\n",
       "      <td>U.S. military to accept transgender recruits o...</td>\n",
       "      <td>WASHINGTON (Reuters) - Transgender people will...</td>\n",
       "      <td>politicsNews</td>\n",
       "      <td>December 29, 2017</td>\n",
       "      <td>0</td>\n",
       "    </tr>\n",
       "    <tr>\n",
       "      <th>2</th>\n",
       "      <td>Senior U.S. Republican senator: 'Let Mr. Muell...</td>\n",
       "      <td>WASHINGTON (Reuters) - The special counsel inv...</td>\n",
       "      <td>politicsNews</td>\n",
       "      <td>December 31, 2017</td>\n",
       "      <td>0</td>\n",
       "    </tr>\n",
       "    <tr>\n",
       "      <th>3</th>\n",
       "      <td>FBI Russia probe helped by Australian diplomat...</td>\n",
       "      <td>WASHINGTON (Reuters) - Trump campaign adviser ...</td>\n",
       "      <td>politicsNews</td>\n",
       "      <td>December 30, 2017</td>\n",
       "      <td>0</td>\n",
       "    </tr>\n",
       "    <tr>\n",
       "      <th>4</th>\n",
       "      <td>Trump wants Postal Service to charge 'much mor...</td>\n",
       "      <td>SEATTLE/WASHINGTON (Reuters) - President Donal...</td>\n",
       "      <td>politicsNews</td>\n",
       "      <td>December 29, 2017</td>\n",
       "      <td>0</td>\n",
       "    </tr>\n",
       "  </tbody>\n",
       "</table>\n",
       "</div>"
      ],
      "text/plain": [
       "                                               title  \\\n",
       "0  As U.S. budget fight looms, Republicans flip t...   \n",
       "1  U.S. military to accept transgender recruits o...   \n",
       "2  Senior U.S. Republican senator: 'Let Mr. Muell...   \n",
       "3  FBI Russia probe helped by Australian diplomat...   \n",
       "4  Trump wants Postal Service to charge 'much mor...   \n",
       "\n",
       "                                                text       subject  \\\n",
       "0  WASHINGTON (Reuters) - The head of a conservat...  politicsNews   \n",
       "1  WASHINGTON (Reuters) - Transgender people will...  politicsNews   \n",
       "2  WASHINGTON (Reuters) - The special counsel inv...  politicsNews   \n",
       "3  WASHINGTON (Reuters) - Trump campaign adviser ...  politicsNews   \n",
       "4  SEATTLE/WASHINGTON (Reuters) - President Donal...  politicsNews   \n",
       "\n",
       "                 date  fake  \n",
       "0  December 31, 2017      0  \n",
       "1  December 29, 2017      0  \n",
       "2  December 31, 2017      0  \n",
       "3  December 30, 2017      0  \n",
       "4  December 29, 2017      0  "
      ]
     },
     "execution_count": 5,
     "metadata": {},
     "output_type": "execute_result"
    }
   ],
   "source": [
    "# Create a column with fake=0 in true_news dataset\n",
    "true_news['fake'] = 0\n",
    "true_news.head()"
   ]
  },
  {
   "cell_type": "code",
   "execution_count": 6,
   "metadata": {},
   "outputs": [
    {
     "data": {
      "text/html": [
       "<div>\n",
       "<style scoped>\n",
       "    .dataframe tbody tr th:only-of-type {\n",
       "        vertical-align: middle;\n",
       "    }\n",
       "\n",
       "    .dataframe tbody tr th {\n",
       "        vertical-align: top;\n",
       "    }\n",
       "\n",
       "    .dataframe thead th {\n",
       "        text-align: right;\n",
       "    }\n",
       "</style>\n",
       "<table border=\"1\" class=\"dataframe\">\n",
       "  <thead>\n",
       "    <tr style=\"text-align: right;\">\n",
       "      <th></th>\n",
       "      <th>title</th>\n",
       "      <th>text</th>\n",
       "      <th>subject</th>\n",
       "      <th>date</th>\n",
       "      <th>fake</th>\n",
       "    </tr>\n",
       "  </thead>\n",
       "  <tbody>\n",
       "    <tr>\n",
       "      <th>13997</th>\n",
       "      <td>PRIORITIES: Obama Puts Illegals Before Social ...</td>\n",
       "      <td>Anyone who s been paying attention can tell yo...</td>\n",
       "      <td>politics</td>\n",
       "      <td>May 2, 2016</td>\n",
       "      <td>1</td>\n",
       "    </tr>\n",
       "    <tr>\n",
       "      <th>22663</th>\n",
       "      <td>Reopen the Kurt Cobain Case? [POLL]</td>\n",
       "      <td>21st Century Wire asks The tragic death of Kur...</td>\n",
       "      <td>US_News</td>\n",
       "      <td>February 17, 2016</td>\n",
       "      <td>1</td>\n",
       "    </tr>\n",
       "    <tr>\n",
       "      <th>16204</th>\n",
       "      <td>Australia's Queensland calls snap election in ...</td>\n",
       "      <td>SYDNEY (Reuters) - Australia s Queensland stat...</td>\n",
       "      <td>worldnews</td>\n",
       "      <td>October 29, 2017</td>\n",
       "      <td>0</td>\n",
       "    </tr>\n",
       "    <tr>\n",
       "      <th>12678</th>\n",
       "      <td>AN ELECTION WARNING EVERY AMERICAN SHOULD READ...</td>\n",
       "      <td>As I ve said for years   on radio, TV and in p...</td>\n",
       "      <td>politics</td>\n",
       "      <td>Oct 20, 2016</td>\n",
       "      <td>1</td>\n",
       "    </tr>\n",
       "    <tr>\n",
       "      <th>11130</th>\n",
       "      <td>DOUBLE AMPUTEE VET Blasts Obama’s War Strategy...</td>\n",
       "      <td>War veteran Johnny  Joey  Jones praised Presid...</td>\n",
       "      <td>politics</td>\n",
       "      <td>Apr 15, 2017</td>\n",
       "      <td>1</td>\n",
       "    </tr>\n",
       "  </tbody>\n",
       "</table>\n",
       "</div>"
      ],
      "text/plain": [
       "                                                   title  \\\n",
       "13997  PRIORITIES: Obama Puts Illegals Before Social ...   \n",
       "22663                Reopen the Kurt Cobain Case? [POLL]   \n",
       "16204  Australia's Queensland calls snap election in ...   \n",
       "12678  AN ELECTION WARNING EVERY AMERICAN SHOULD READ...   \n",
       "11130  DOUBLE AMPUTEE VET Blasts Obama’s War Strategy...   \n",
       "\n",
       "                                                    text    subject  \\\n",
       "13997  Anyone who s been paying attention can tell yo...   politics   \n",
       "22663  21st Century Wire asks The tragic death of Kur...    US_News   \n",
       "16204  SYDNEY (Reuters) - Australia s Queensland stat...  worldnews   \n",
       "12678  As I ve said for years   on radio, TV and in p...   politics   \n",
       "11130  War veteran Johnny  Joey  Jones praised Presid...   politics   \n",
       "\n",
       "                    date  fake  \n",
       "13997        May 2, 2016     1  \n",
       "22663  February 17, 2016     1  \n",
       "16204  October 29, 2017      0  \n",
       "12678       Oct 20, 2016     1  \n",
       "11130       Apr 15, 2017     1  "
      ]
     },
     "execution_count": 6,
     "metadata": {},
     "output_type": "execute_result"
    }
   ],
   "source": [
    "# Concat two fake and true news\n",
    "news = pd.concat([fake_news, true_news])\n",
    "news.sample(5)"
   ]
  },
  {
   "cell_type": "code",
   "execution_count": 7,
   "metadata": {},
   "outputs": [
    {
     "data": {
      "text/plain": [
       "title      0\n",
       "text       0\n",
       "subject    0\n",
       "date       0\n",
       "fake       0\n",
       "dtype: int64"
      ]
     },
     "execution_count": 7,
     "metadata": {},
     "output_type": "execute_result"
    }
   ],
   "source": [
    "# Check for any null values\n",
    "news.isna().sum()"
   ]
  },
  {
   "cell_type": "code",
   "execution_count": 9,
   "metadata": {},
   "outputs": [
    {
     "data": {
      "text/plain": [
       "<AxesSubplot:xlabel='fake', ylabel='count'>"
      ]
     },
     "execution_count": 9,
     "metadata": {},
     "output_type": "execute_result"
    },
    {
     "data": {
      "image/png": "[encoded data removed]",
      "text/plain": [
       "<Figure size 432x288 with 1 Axes>"
      ]
     },
     "metadata": {
      "needs_background": "light"
     },
     "output_type": "display_data"
    }
   ],
   "source": [
    "#### Explore the target variable\n",
    "sns.countplot(x='fake', data=news)"
   ]
  },
  {
   "cell_type": "code",
   "execution_count": 10,
   "metadata": {},
   "outputs": [
    {
     "data": {
      "text/plain": [
       "0    Donald Trump just couldn t wish all Americans ...\n",
       "1    House Intelligence Committee Chairman Devin Nu...\n",
       "Name: text, dtype: object"
      ]
     },
     "execution_count": 10,
     "metadata": {},
     "output_type": "execute_result"
    }
   ],
   "source": [
    "# Explore 2 text for the fake dataset\n",
    "news[news['fake']==1]['text'].head(2)"
   ]
  },
  {
   "cell_type": "code",
   "execution_count": 11,
   "metadata": {},
   "outputs": [
    {
     "data": {
      "text/plain": [
       "<AxesSubplot:xlabel='subject', ylabel='count'>"
      ]
     },
     "execution_count": 11,
     "metadata": {},
     "output_type": "execute_result"
    },
    {
     "data": {
      "image/png": "[encoded data removed]",
      "text/plain": [
       "<Figure size 720x360 with 1 Axes>"
      ]
     },
     "metadata": {
      "needs_background": "light"
     },
     "output_type": "display_data"
    }
   ],
   "source": [
    "# Explore the subject column\n",
    "plt.figure(figsize=(10,5))\n",
    "sns.countplot(x='subject', data=news, hue='fake')"
   ]
  },
  {
   "cell_type": "markdown",
   "metadata": {},
   "source": [
    "## Feature Engineering¶\n",
    "We will create a new columns calld Month and Year from Date and Analyse whether \n",
    "fake or true news has some correlation with Month or Year in the timeline"
   ]
  },
  {
   "cell_type": "code",
   "execution_count": 12,
   "metadata": {},
   "outputs": [
    {
     "data": {
      "text/html": [
       "<div>\n",
       "<style scoped>\n",
       "    .dataframe tbody tr th:only-of-type {\n",
       "        vertical-align: middle;\n",
       "    }\n",
       "\n",
       "    .dataframe tbody tr th {\n",
       "        vertical-align: top;\n",
       "    }\n",
       "\n",
       "    .dataframe thead th {\n",
       "        text-align: right;\n",
       "    }\n",
       "</style>\n",
       "<table border=\"1\" class=\"dataframe\">\n",
       "  <thead>\n",
       "    <tr style=\"text-align: right;\">\n",
       "      <th></th>\n",
       "      <th>title</th>\n",
       "      <th>text</th>\n",
       "      <th>subject</th>\n",
       "      <th>date</th>\n",
       "      <th>fake</th>\n",
       "      <th>Year</th>\n",
       "      <th>Month</th>\n",
       "    </tr>\n",
       "  </thead>\n",
       "  <tbody>\n",
       "    <tr>\n",
       "      <th>0</th>\n",
       "      <td>Donald Trump Sends Out Embarrassing New Year’...</td>\n",
       "      <td>Donald Trump just couldn t wish all Americans ...</td>\n",
       "      <td>News</td>\n",
       "      <td>2017-12-31</td>\n",
       "      <td>1</td>\n",
       "      <td>2017.0</td>\n",
       "      <td>12.0</td>\n",
       "    </tr>\n",
       "    <tr>\n",
       "      <th>1</th>\n",
       "      <td>Drunk Bragging Trump Staffer Started Russian ...</td>\n",
       "      <td>House Intelligence Committee Chairman Devin Nu...</td>\n",
       "      <td>News</td>\n",
       "      <td>2017-12-31</td>\n",
       "      <td>1</td>\n",
       "      <td>2017.0</td>\n",
       "      <td>12.0</td>\n",
       "    </tr>\n",
       "    <tr>\n",
       "      <th>2</th>\n",
       "      <td>Sheriff David Clarke Becomes An Internet Joke...</td>\n",
       "      <td>On Friday, it was revealed that former Milwauk...</td>\n",
       "      <td>News</td>\n",
       "      <td>2017-12-30</td>\n",
       "      <td>1</td>\n",
       "      <td>2017.0</td>\n",
       "      <td>12.0</td>\n",
       "    </tr>\n",
       "    <tr>\n",
       "      <th>3</th>\n",
       "      <td>Trump Is So Obsessed He Even Has Obama’s Name...</td>\n",
       "      <td>On Christmas day, Donald Trump announced that ...</td>\n",
       "      <td>News</td>\n",
       "      <td>2017-12-29</td>\n",
       "      <td>1</td>\n",
       "      <td>2017.0</td>\n",
       "      <td>12.0</td>\n",
       "    </tr>\n",
       "    <tr>\n",
       "      <th>4</th>\n",
       "      <td>Pope Francis Just Called Out Donald Trump Dur...</td>\n",
       "      <td>Pope Francis used his annual Christmas Day mes...</td>\n",
       "      <td>News</td>\n",
       "      <td>2017-12-25</td>\n",
       "      <td>1</td>\n",
       "      <td>2017.0</td>\n",
       "      <td>12.0</td>\n",
       "    </tr>\n",
       "  </tbody>\n",
       "</table>\n",
       "</div>"
      ],
      "text/plain": [
       "                                               title  \\\n",
       "0   Donald Trump Sends Out Embarrassing New Year’...   \n",
       "1   Drunk Bragging Trump Staffer Started Russian ...   \n",
       "2   Sheriff David Clarke Becomes An Internet Joke...   \n",
       "3   Trump Is So Obsessed He Even Has Obama’s Name...   \n",
       "4   Pope Francis Just Called Out Donald Trump Dur...   \n",
       "\n",
       "                                                text subject       date  fake  \\\n",
       "0  Donald Trump just couldn t wish all Americans ...    News 2017-12-31     1   \n",
       "1  House Intelligence Committee Chairman Devin Nu...    News 2017-12-31     1   \n",
       "2  On Friday, it was revealed that former Milwauk...    News 2017-12-30     1   \n",
       "3  On Christmas day, Donald Trump announced that ...    News 2017-12-29     1   \n",
       "4  Pope Francis used his annual Christmas Day mes...    News 2017-12-25     1   \n",
       "\n",
       "     Year  Month  \n",
       "0  2017.0   12.0  \n",
       "1  2017.0   12.0  \n",
       "2  2017.0   12.0  \n",
       "3  2017.0   12.0  \n",
       "4  2017.0   12.0  "
      ]
     },
     "execution_count": 12,
     "metadata": {},
     "output_type": "execute_result"
    }
   ],
   "source": [
    "news['date'] = pd.to_datetime(news['date'], errors='coerce')\n",
    "news['Year'] = news['date'].dt.year\n",
    "news['Month'] = news['date'].dt.month\n",
    "\n",
    "news.head()"
   ]
  },
  {
   "cell_type": "code",
   "execution_count": 13,
   "metadata": {},
   "outputs": [
    {
     "data": {
      "text/plain": [
       "<AxesSubplot:xlabel='Year', ylabel='count'>"
      ]
     },
     "execution_count": 13,
     "metadata": {},
     "output_type": "execute_result"
    },
    {
     "data": {
      "image/png": "[encoded data removed]",
      "text/plain": [
       "<Figure size 432x288 with 1 Axes>"
      ]
     },
     "metadata": {
      "needs_background": "light"
     },
     "output_type": "display_data"
    }
   ],
   "source": [
    "# check the impact of yead on tha target\n",
    "sns.countplot(x='Year', data=news, hue='fake')"
   ]
  },
  {
   "cell_type": "code",
   "execution_count": 15,
   "metadata": {},
   "outputs": [
    {
     "data": {
      "text/html": [
       "<div>\n",
       "<style scoped>\n",
       "    .dataframe tbody tr th:only-of-type {\n",
       "        vertical-align: middle;\n",
       "    }\n",
       "\n",
       "    .dataframe tbody tr th {\n",
       "        vertical-align: top;\n",
       "    }\n",
       "\n",
       "    .dataframe thead th {\n",
       "        text-align: right;\n",
       "    }\n",
       "</style>\n",
       "<table border=\"1\" class=\"dataframe\">\n",
       "  <thead>\n",
       "    <tr style=\"text-align: right;\">\n",
       "      <th></th>\n",
       "      <th>text</th>\n",
       "      <th>subject</th>\n",
       "      <th>date</th>\n",
       "      <th>fake</th>\n",
       "      <th>Year</th>\n",
       "      <th>Month</th>\n",
       "    </tr>\n",
       "  </thead>\n",
       "  <tbody>\n",
       "    <tr>\n",
       "      <th>0</th>\n",
       "      <td>Donald Trump Sends Out Embarrassing New Year’...</td>\n",
       "      <td>News</td>\n",
       "      <td>2017-12-31</td>\n",
       "      <td>1</td>\n",
       "      <td>2017.0</td>\n",
       "      <td>12.0</td>\n",
       "    </tr>\n",
       "    <tr>\n",
       "      <th>1</th>\n",
       "      <td>Drunk Bragging Trump Staffer Started Russian ...</td>\n",
       "      <td>News</td>\n",
       "      <td>2017-12-31</td>\n",
       "      <td>1</td>\n",
       "      <td>2017.0</td>\n",
       "      <td>12.0</td>\n",
       "    </tr>\n",
       "    <tr>\n",
       "      <th>2</th>\n",
       "      <td>Sheriff David Clarke Becomes An Internet Joke...</td>\n",
       "      <td>News</td>\n",
       "      <td>2017-12-30</td>\n",
       "      <td>1</td>\n",
       "      <td>2017.0</td>\n",
       "      <td>12.0</td>\n",
       "    </tr>\n",
       "    <tr>\n",
       "      <th>3</th>\n",
       "      <td>Trump Is So Obsessed He Even Has Obama’s Name...</td>\n",
       "      <td>News</td>\n",
       "      <td>2017-12-29</td>\n",
       "      <td>1</td>\n",
       "      <td>2017.0</td>\n",
       "      <td>12.0</td>\n",
       "    </tr>\n",
       "    <tr>\n",
       "      <th>4</th>\n",
       "      <td>Pope Francis Just Called Out Donald Trump Dur...</td>\n",
       "      <td>News</td>\n",
       "      <td>2017-12-25</td>\n",
       "      <td>1</td>\n",
       "      <td>2017.0</td>\n",
       "      <td>12.0</td>\n",
       "    </tr>\n",
       "  </tbody>\n",
       "</table>\n",
       "</div>"
      ],
      "text/plain": [
       "                                                text subject       date  fake  \\\n",
       "0   Donald Trump Sends Out Embarrassing New Year’...    News 2017-12-31     1   \n",
       "1   Drunk Bragging Trump Staffer Started Russian ...    News 2017-12-31     1   \n",
       "2   Sheriff David Clarke Becomes An Internet Joke...    News 2017-12-30     1   \n",
       "3   Trump Is So Obsessed He Even Has Obama’s Name...    News 2017-12-29     1   \n",
       "4   Pope Francis Just Called Out Donald Trump Dur...    News 2017-12-25     1   \n",
       "\n",
       "     Year  Month  \n",
       "0  2017.0   12.0  \n",
       "1  2017.0   12.0  \n",
       "2  2017.0   12.0  \n",
       "3  2017.0   12.0  \n",
       "4  2017.0   12.0  "
      ]
     },
     "execution_count": 15,
     "metadata": {},
     "output_type": "execute_result"
    }
   ],
   "source": [
    "news['text'] = news['title'] + news['text']\n",
    "news.drop(labels=['title'], axis=1,inplace=True)\n",
    "news.head()"
   ]
  },
  {
   "cell_type": "markdown",
   "metadata": {},
   "source": [
    "# Preparing the final data\n",
    "We will remove the subject attribute - Since it perfectly distributes \n",
    "the target variable We will remove the Year attribute \n",
    "- This also has a clear division for the target variable We will remove the Month Attribute \n",
    "- This also has a very clear approach of demarcating the target variable\n",
    "\n",
    "For now we will just go ahead with the \"text attribute\""
   ]
  },
  {
   "cell_type": "code",
   "execution_count": 16,
   "metadata": {},
   "outputs": [
    {
     "data": {
      "text/html": [
       "<div>\n",
       "<style scoped>\n",
       "    .dataframe tbody tr th:only-of-type {\n",
       "        vertical-align: middle;\n",
       "    }\n",
       "\n",
       "    .dataframe tbody tr th {\n",
       "        vertical-align: top;\n",
       "    }\n",
       "\n",
       "    .dataframe thead th {\n",
       "        text-align: right;\n",
       "    }\n",
       "</style>\n",
       "<table border=\"1\" class=\"dataframe\">\n",
       "  <thead>\n",
       "    <tr style=\"text-align: right;\">\n",
       "      <th></th>\n",
       "      <th>text</th>\n",
       "      <th>fake</th>\n",
       "    </tr>\n",
       "  </thead>\n",
       "  <tbody>\n",
       "    <tr>\n",
       "      <th>0</th>\n",
       "      <td>Donald Trump Sends Out Embarrassing New Year’...</td>\n",
       "      <td>1</td>\n",
       "    </tr>\n",
       "    <tr>\n",
       "      <th>1</th>\n",
       "      <td>Drunk Bragging Trump Staffer Started Russian ...</td>\n",
       "      <td>1</td>\n",
       "    </tr>\n",
       "    <tr>\n",
       "      <th>2</th>\n",
       "      <td>Sheriff David Clarke Becomes An Internet Joke...</td>\n",
       "      <td>1</td>\n",
       "    </tr>\n",
       "    <tr>\n",
       "      <th>3</th>\n",
       "      <td>Trump Is So Obsessed He Even Has Obama’s Name...</td>\n",
       "      <td>1</td>\n",
       "    </tr>\n",
       "    <tr>\n",
       "      <th>4</th>\n",
       "      <td>Pope Francis Just Called Out Donald Trump Dur...</td>\n",
       "      <td>1</td>\n",
       "    </tr>\n",
       "  </tbody>\n",
       "</table>\n",
       "</div>"
      ],
      "text/plain": [
       "                                                text  fake\n",
       "0   Donald Trump Sends Out Embarrassing New Year’...     1\n",
       "1   Drunk Bragging Trump Staffer Started Russian ...     1\n",
       "2   Sheriff David Clarke Becomes An Internet Joke...     1\n",
       "3   Trump Is So Obsessed He Even Has Obama’s Name...     1\n",
       "4   Pope Francis Just Called Out Donald Trump Dur...     1"
      ]
     },
     "execution_count": 16,
     "metadata": {},
     "output_type": "execute_result"
    }
   ],
   "source": [
    "news.drop(labels=['subject','date', 'Year','Month'], axis=1, inplace=True)\n",
    "news.head()"
   ]
  },
  {
   "cell_type": "markdown",
   "metadata": {},
   "source": [
    "## Split the dataset into training and testing"
   ]
  },
  {
   "cell_type": "code",
   "execution_count": 17,
   "metadata": {},
   "outputs": [
    {
     "data": {
      "text/html": [
       "<div>\n",
       "<style scoped>\n",
       "    .dataframe tbody tr th:only-of-type {\n",
       "        vertical-align: middle;\n",
       "    }\n",
       "\n",
       "    .dataframe tbody tr th {\n",
       "        vertical-align: top;\n",
       "    }\n",
       "\n",
       "    .dataframe thead th {\n",
       "        text-align: right;\n",
       "    }\n",
       "</style>\n",
       "<table border=\"1\" class=\"dataframe\">\n",
       "  <thead>\n",
       "    <tr style=\"text-align: right;\">\n",
       "      <th></th>\n",
       "      <th>text</th>\n",
       "      <th>fake</th>\n",
       "    </tr>\n",
       "  </thead>\n",
       "  <tbody>\n",
       "    <tr>\n",
       "      <th>5108</th>\n",
       "      <td>Rudy Giuliani: Trump Didn’t Say To Kill Hilla...</td>\n",
       "      <td>1</td>\n",
       "    </tr>\n",
       "    <tr>\n",
       "      <th>19615</th>\n",
       "      <td>China offers support for strife-torn Venezuela...</td>\n",
       "      <td>0</td>\n",
       "    </tr>\n",
       "    <tr>\n",
       "      <th>19195</th>\n",
       "      <td>RADICAL DIRECTOR OF SIERRA CLUB: Abortion is t...</td>\n",
       "      <td>1</td>\n",
       "    </tr>\n",
       "    <tr>\n",
       "      <th>5079</th>\n",
       "      <td>Highlights: The Trump presidency on March 7 at...</td>\n",
       "      <td>0</td>\n",
       "    </tr>\n",
       "    <tr>\n",
       "      <th>3547</th>\n",
       "      <td>Hillary Clinton attacks proposed Trump budget ...</td>\n",
       "      <td>0</td>\n",
       "    </tr>\n",
       "  </tbody>\n",
       "</table>\n",
       "</div>"
      ],
      "text/plain": [
       "                                                    text  fake\n",
       "5108    Rudy Giuliani: Trump Didn’t Say To Kill Hilla...     1\n",
       "19615  China offers support for strife-torn Venezuela...     0\n",
       "19195  RADICAL DIRECTOR OF SIERRA CLUB: Abortion is t...     1\n",
       "5079   Highlights: The Trump presidency on March 7 at...     0\n",
       "3547   Hillary Clinton attacks proposed Trump budget ...     0"
      ]
     },
     "execution_count": 17,
     "metadata": {},
     "output_type": "execute_result"
    }
   ],
   "source": [
    "# We will shuffle the dataframe and extract the feature and label\n",
    "news = news.sample(frac=1)\n",
    "news.head()"
   ]
  },
  {
   "cell_type": "code",
   "execution_count": 18,
   "metadata": {},
   "outputs": [],
   "source": [
    "# Split the dataset into training and testing\n",
    "from sklearn.model_selection import train_test_split\n",
    "\n",
    "train_sentences, val_sentences, train_labels, val_labels=train_test_split(news['text'].to_numpy(),\n",
    "                                                                            news['fake'].to_numpy(),\n",
    "                                                                            test_size=0.2,\n",
    "                                                                            random_state=42)\n"
   ]
  },
  {
   "cell_type": "code",
   "execution_count": 19,
   "metadata": {},
   "outputs": [
    {
     "data": {
      "text/plain": [
       "(35918, 8980, 35918, 8980)"
      ]
     },
     "execution_count": 19,
     "metadata": {},
     "output_type": "execute_result"
    }
   ],
   "source": [
    "len(train_sentences),len(val_sentences),len(train_labels),len(val_labels)"
   ]
  },
  {
   "cell_type": "code",
   "execution_count": 20,
   "metadata": {},
   "outputs": [
    {
     "data": {
      "text/plain": [
       "(array(['DINGBAT NANCY STRIKES AGAIN! Watch Nancy Pelosi Refer To NRA As Part Of Intelligence Committee [VIDEO]Let s play a fun game called,  What the hell did Nancy just say? Every time Nancy opens her mouth, she proves that President Trump s election has caused her and her dingbat counterpart Rep. Maxine Waters to become completely unhinged.Here is the transcript from Nancy Pelosi s most recent appearance at the Peter G. Peterson Foundation s 2017 Fiscal Summit. Can someone please tell us exactly what Nancy is trying to say here? Talk about Russia s undermining our elections. They did it. Thisss .isss (mumble, mumble) isn t any question. They hacked, they leaked, they disrupted. The question is, was there collusion between the (mumble) campaign and the next. You can t know until you have the full-fledged (mumble mumble). To have a President say to the. If he did. To the uh director of the FBI or the DNI, the Director of National Intelligence, or the NRA .person that um uh that that uh that they should uh not go forward uh it raises questions that uh needs to be answered in a facts and law way and not a hearsay Watch:As if Nancy s ridiculous NRA slip wasn t bad enough, she goes on to clarify why she is uniquely qualified to speak on such important matters as Russian collusion with the Trump campaign because of her vast experience in working with the United States intelligence community, in fact, Nancy claims she has  more  experience than  anyone  else. Too bad she doesn t even know the NRA isn t part of the intelligence community: ',\n",
       "        ' Here’s Trump’s Hilariously Illegal Plan To Force Mexico To Fund His Border WallDonald Trump has long insisted that he is going to build a massive wall along the U.S-Mexico border, and force the Mexican government to pay for it. Most people, regardless of political affiliations, find the idea to be nothing short of absurd. Well, Trump is determined, and now he has explained that Mexico will pay for that wall or else.ABC News reports that Trump details his plan for the wall on his campaign website, and boy is it a doozy of bullying and strongman tactics. Trump s campaign says: It s an easy decision for Mexico: Make a one-time payment of 5 to 10 billion dollars to ensure that 24 billion continues to flow into their country year after year. The cash flow to Mexico that Trump is rambling on about here is a reference to Mexican immigrants living in America who wire money to help relatives in their native country. This is clearly something Trump doesn t like. He calls the practice of helping one s family financially if said family happens to live in Mexico  de facto welfare for poor families in Mexico.  Because of course he does. How will he stop people from wiring money? Well, he ll force each and every person who wishes to transfer any money at all to Mexico to prove to the government that they are here in the U.S. by legal means. Never mind the massive undertaking such an operation would be, of course. What Trump wants, Trump gets.If that isn t shocking enough for you, there s more. Trump says that if that isn t enough to make Mexico bankroll his silly wall, then he will turn to  canceling visas,  which is something he wants to do anyway because he calls the issuing of Visas to Mexican nationals one of our greatest leverage points  in this whole insane border wall plan.If the threatening of the visas of Mexican nationals currently in the United States and all the other nonsense he s laid out here doesn t force Mexico to submit to The Donald s authoritarian plan, then, by god, he ll jack the prices of visas and that will finance the wall to keep all those Mexicans from immigrating to the United States.If this so-called  policy  plan doesn t tell people how insanely dangerous Donald Trump is, there s nothing that will. This is, on a legal level, questionable at best, and most likely flat-out illegal. But it s Donald Trump, and laws and the Constitution don t really seem to matter to him when it comes to his insane policies that target all the people he doesn t like.Make no mistake, this man is dangerous, and has no business anywhere near the White House.Featured image via Joe Raedle/Getty Images'],\n",
       "       dtype=object),\n",
       " array([1, 1, 1, 0, 0, 0, 1, 1, 1, 1]))"
      ]
     },
     "execution_count": 20,
     "metadata": {},
     "output_type": "execute_result"
    }
   ],
   "source": [
    "# Check the first 10 samples\n",
    "train_sentences[:2], train_labels[:10]"
   ]
  },
  {
   "cell_type": "markdown",
   "metadata": {},
   "source": [
    "## Converting text into numbers¶\n",
    "When dealing with a text problem, one of the first things you'll have to do before you cna build a model is to covert your text to numbers.\n",
    "\n",
    "There are a few ways to do this, namely:\n",
    "\n",
    "Tokenization -direct mapping of token (a token could be a word or a character ) to a number.\n",
    "Embedding - create a matrix of feature vector for each token (the size of the feature vector can be defined and this embedding can be learned)."
   ]
  },
  {
   "cell_type": "markdown",
   "metadata": {},
   "source": [
    "# Text Vectorization (tokenization"
   ]
  },
  {
   "cell_type": "code",
   "execution_count": 21,
   "metadata": {},
   "outputs": [
    {
     "data": {
      "text/plain": [
       "417"
      ]
     },
     "execution_count": 21,
     "metadata": {},
     "output_type": "execute_result"
    }
   ],
   "source": [
    "# find the average number of tokens (words) in the training tweets\n",
    "round(sum([len(i.split()) for i in train_sentences])/len(train_sentences))"
   ]
  },
  {
   "cell_type": "code",
   "execution_count": 22,
   "metadata": {},
   "outputs": [],
   "source": [
    "# Setup text vectorization variables\n",
    "max_vocab_length = 10000\n",
    "max_length = 418\n",
    "\n",
    "\n",
    "from tensorflow.keras.layers.experimental.preprocessing import TextVectorization\n",
    "text_vectorizer = TextVectorization(max_tokens=max_vocab_length,\n",
    "                                   output_mode='int',\n",
    "                                   output_sequence_length=max_length)"
   ]
  },
  {
   "cell_type": "code",
   "execution_count": 23,
   "metadata": {},
   "outputs": [],
   "source": [
    "# Fit the text vectorizer to the training text\n",
    "text_vectorizer.adapt(train_sentences)"
   ]
  },
  {
   "cell_type": "code",
   "execution_count": 24,
   "metadata": {},
   "outputs": [
    {
     "data": {
      "text/plain": [
       "<tf.Tensor: shape=(1, 418), dtype=int64, numpy=\n",
       "array([[1714,   91,   25, 2781,    3,    1,    0,    0,    0,    0,    0,\n",
       "           0,    0,    0,    0,    0,    0,    0,    0,    0,    0,    0,\n",
       "           0,    0,    0,    0,    0,    0,    0,    0,    0,    0,    0,\n",
       "           0,    0,    0,    0,    0,    0,    0,    0,    0,    0,    0,\n",
       "           0,    0,    0,    0,    0,    0,    0,    0,    0,    0,    0,\n",
       "           0,    0,    0,    0,    0,    0,    0,    0,    0,    0,    0,\n",
       "           0,    0,    0,    0,    0,    0,    0,    0,    0,    0,    0,\n",
       "           0,    0,    0,    0,    0,    0,    0,    0,    0,    0,    0,\n",
       "           0,    0,    0,    0,    0,    0,    0,    0,    0,    0,    0,\n",
       "           0,    0,    0,    0,    0,    0,    0,    0,    0,    0,    0,\n",
       "           0,    0,    0,    0,    0,    0,    0,    0,    0,    0,    0,\n",
       "           0,    0,    0,    0,    0,    0,    0,    0,    0,    0,    0,\n",
       "           0,    0,    0,    0,    0,    0,    0,    0,    0,    0,    0,\n",
       "           0,    0,    0,    0,    0,    0,    0,    0,    0,    0,    0,\n",
       "           0,    0,    0,    0,    0,    0,    0,    0,    0,    0,    0,\n",
       "           0,    0,    0,    0,    0,    0,    0,    0,    0,    0,    0,\n",
       "           0,    0,    0,    0,    0,    0,    0,    0,    0,    0,    0,\n",
       "           0,    0,    0,    0,    0,    0,    0,    0,    0,    0,    0,\n",
       "           0,    0,    0,    0,    0,    0,    0,    0,    0,    0,    0,\n",
       "           0,    0,    0,    0,    0,    0,    0,    0,    0,    0,    0,\n",
       "           0,    0,    0,    0,    0,    0,    0,    0,    0,    0,    0,\n",
       "           0,    0,    0,    0,    0,    0,    0,    0,    0,    0,    0,\n",
       "           0,    0,    0,    0,    0,    0,    0,    0,    0,    0,    0,\n",
       "           0,    0,    0,    0,    0,    0,    0,    0,    0,    0,    0,\n",
       "           0,    0,    0,    0,    0,    0,    0,    0,    0,    0,    0,\n",
       "           0,    0,    0,    0,    0,    0,    0,    0,    0,    0,    0,\n",
       "           0,    0,    0,    0,    0,    0,    0,    0,    0,    0,    0,\n",
       "           0,    0,    0,    0,    0,    0,    0,    0,    0,    0,    0,\n",
       "           0,    0,    0,    0,    0,    0,    0,    0,    0,    0,    0,\n",
       "           0,    0,    0,    0,    0,    0,    0,    0,    0,    0,    0,\n",
       "           0,    0,    0,    0,    0,    0,    0,    0,    0,    0,    0,\n",
       "           0,    0,    0,    0,    0,    0,    0,    0,    0,    0,    0,\n",
       "           0,    0,    0,    0,    0,    0,    0,    0,    0,    0,    0,\n",
       "           0,    0,    0,    0,    0,    0,    0,    0,    0,    0,    0,\n",
       "           0,    0,    0,    0,    0,    0,    0,    0,    0,    0,    0,\n",
       "           0,    0,    0,    0,    0,    0,    0,    0,    0,    0,    0,\n",
       "           0,    0,    0,    0,    0,    0,    0,    0,    0,    0,    0,\n",
       "           0,    0,    0,    0,    0,    0,    0,    0,    0,    0,    0]])>"
      ]
     },
     "execution_count": 24,
     "metadata": {},
     "output_type": "execute_result"
    }
   ],
   "source": [
    "# Create a sample sentences and tekenize it\n",
    "sample_sentence = \"Please Do Not Forget To Upvoted\"\n",
    "text_vectorizer([sample_sentence])"
   ]
  },
  {
   "cell_type": "code",
   "execution_count": 25,
   "metadata": {},
   "outputs": [
    {
     "name": "stdout",
     "output_type": "stream",
     "text": [
      "Original text;\n",
      "Trump, dogged at home, begins longest presidential Asia trip in yearsHONOLULU (Reuters) - President Donald Trump arrived in Hawaii on Friday as he set out on the longest trip to Asia by an American president in more than a quarter century, looking for help to pressure North Korea to stand down from a nuclear crisis. After Air Force One landed at Joint Base Hickam, Trump and his wife, Melania, were draped with traditional lei necklaces. Trump went on to nearby Camp Smith for a classified briefing from Pacific Command military leaders that officials expected would touch on North Korea and other areas. Later, he was to visit Pearl Harbor and the USS Arizona memorial for the U.S. sailors killed when Japan bombed the American naval base on Dec. 7, 1941. Trump s 12-day trip to Japan, South Korea, China, Vietnam and the Philippines, ending on Nov. 14, takes him out of Washington at a time when he has been beset by several issues. These include an intensifying federal investigation into Russian meddling in last year s election, New York s recovery from an attack earlier this week that killed eight people, and debate over a Republican tax-cut plan that if approved by Congress would be Trump s first major legislative victory. The trip began just days after Trump s former campaign manager Paul Manafort was indicted in the investigation into Russian meddling in the 2016 presidential election and after his attorney general, Jeff Sessions, faced Democratic calls to appear before Congress again to clarify his previous testimony about the campaign s Russia contacts. Amid the furor caused by the revelations, the Kremlin said on Friday that a meeting between Trump and Russian President Vladimir Putin at an Asian economic summit next week was being discussed, and Trump said it might happen.  We may have a meeting with Putin,  Trump told Fox News.  And, again   Putin is very important because they can help us with North Korea. They can help us with Syria. We have to talk about Ukraine.  Court documents made public on Monday also disclosed that a Trump campaign foreign policy adviser, George Papadopoulos, pleaded guilty early last month to lying to the Federal Bureau of Investigation. The documents cited a March 2016 meeting, when Trump was campaigning for the presidency, and attended by Trump and Sessions, in which Papadopoulos offered to help arrange a meeting between Trump and Putin. While Trump tweeted about developments vigorously this week, he told The New York Times on Wednesday that he was  not angry at anybody  about the case and there was nothing to suggest any collusion by his campaign and Russia. Trump s plan for an extended absence from Washington has alarmed allies who, after seeing a healthcare reform bid fizzle, worry the tax effort could suffer without Trump to keep momentum going. On Saturday, Trump is to fly to Japan and later visit South Korea in search of a united front against North Korea before going to Beijing, where he will push Chinese President Xi Jinping to get tougher with Pyongyang. In the Fox interview, Trump was asked if he planned to be tough on China over thorny issues including trade, intellectual property theft and subsidies.  You have to understand something - very important,  he responded.  We have a problem called North Korea.  Trump said Chinese President Xi Jinping  has been pretty terrific  in cutting Pyongyang off from banking and oil systems. He added that Japan had reason to be worried about North Korea and alluded to Japanese Prime Minister Shinzo Abe s campaign for a military buildup against that threat.  Well, you know Japan is a warrior nation,  he said.  I tell China and I tell everyone else that, listen, you re going to have yourself a big problem with Japan pretty soon if you allow this to continue with North Korea.  Trump will attend the Asia-Pacific Economic Cooperation summit in Danang, Vietnam, make a state visit to Hanoi and end his trip with the Association of South East Asia Nations summit in Manila. Trump told reporters before leaving on Friday that he would spend an extra day in the Philippines. The last time a U.S. president was in Asia for so long was in late 1991 and early 1992, when President George H.W. Bush became ill at a Japanese state dinner. \n",
      "\n",
      " Vectorized Version:\n"
     ]
    },
    {
     "data": {
      "text/plain": [
       "<tf.Tensor: shape=(1, 418), dtype=int64, numpy=\n",
       "array([[  15, 6603,   27,  329, 3243, 6565,  137, 1632, 1118,    7,    1,\n",
       "          69,   39,   70,   15, 1836,    7, 3452,    9,  210,   19,   13,\n",
       "         379,   55,    9,    2, 6565, 1118,    3, 1632,   21,   32,  133,\n",
       "          39,    7,   49,   78,    5, 3007,  773,  756,   10,  231,    3,\n",
       "         814,  145,  232,    3,  684,  154,   26,    5,  273,  520,   51,\n",
       "         486,  413,   54, 5828,   27, 1217, 1020,    1,   15,    6,   20,\n",
       "         819, 2081,   47,    1,   17, 2408,    1,    1,   15,  373,    9,\n",
       "           3, 2928, 1903, 2190,   10,    5, 1424, 1477,   26, 2643, 2578,\n",
       "         167,  281,    8,  162,  436,   35, 3433,    9,  145,  232,    6,\n",
       "          82,  972,  357,   13,   18,    3,  564, 9888, 6016,    6,    2,\n",
       "        9501, 1630, 3342,   10,    2,   31, 7810,  346,   62, 1016, 8428,\n",
       "           2,  133, 4432, 1020,    9, 1824, 1072,    1,   15,   11,    1,\n",
       "        1118,    3, 1016,  271,  232,  217, 1733,    6,    2, 2236, 2521,\n",
       "           9,  820, 1080, 1044,   80,   55,    4,  182,   27,    5,  100,\n",
       "          62,   13,   22,   45,    1,   21,  293,  440,  146,  770,   32,\n",
       "           1,  170,  275,   85,  193, 2375,    7,   97,  111,   11,   99,\n",
       "          60,  228,   11, 3924,   26,   32,  269,  386,   28,  155,    8,\n",
       "         346, 1120,   46,    6,  475,   65,    5,   79,    1,  282,    8,\n",
       "          57, 1260,   21,  192,   35,   23,   15,   11,  105,  333, 1491,\n",
       "         872,    2, 1118,  619,   77,  296,   51,   15,   11,  106,   93,\n",
       "        1421,  598, 1873,   18, 4818,    7,    2,  275,   85,  193, 2375,\n",
       "           7,    2,  225,  137,   99,    6,   51,   20,  442,  233, 1451,\n",
       "         959, 1722,  147,  571,    3, 1348,  112,  192,  305,    3, 4690,\n",
       "          20, 1042, 1740,   38,    2,   93,   11,  150, 2803, 1444,    2,\n",
       "           1, 1329,   21,    2, 4520,    2, 1852,   14,    9,  210,    8,\n",
       "           5,  255,  157,   15,    6,  193,   39, 1407,  521,   27,   32,\n",
       "        2501,  365, 1395,  227,  155,   18,  108, 1435,    6,   15,   14,\n",
       "          16,  332, 1149,   36,  120,   24,    5,  255,   17,  521,   15,\n",
       "          87,  318,   96,    6,  305,  521,   12,  143,  497,   92,   33,\n",
       "          75,  231,   31,   17,  145,  232,   33,   75,  231,   31,   17,\n",
       "         272,   36,   24,    3,  594,   38, 1456,  132,  789,  128,  168,\n",
       "           9,  219,   63, 3695,    8,    5,   15,   93,  174,  215,  815,\n",
       "         675, 6282, 3694, 1494,  532,   97,  277,    3, 1531,    3,    2,\n",
       "         170, 1562,    4,  275,    2,  789, 1661,    5,  363,  225,  255,\n",
       "          62,   15,   18, 3212,   10,    2,  786,    6, 2033,   21,   15,\n",
       "           6,  959,    7,   50, 6282, 1244,    3,  231,    1,    5,  255,\n",
       "         157,   15,    6,  521,  115,   15, 1035,   38, 5560, 9798,   28,\n",
       "         155,   13,   87,    2,   60,  228,  268,    9,  205,    8,   13]])>"
      ]
     },
     "execution_count": 25,
     "metadata": {},
     "output_type": "execute_result"
    }
   ],
   "source": [
    "# choose a random sentence from the training dataset and tokeize it\n",
    "import random\n",
    "random_sentence = random.choice(train_sentences)\n",
    "print(f\"Original text;\\n{random_sentence}\\\n",
    "\\n\\n Vectorized Version:\")\n",
    "text_vectorizer([random_sentence])"
   ]
  },
  {
   "cell_type": "code",
   "execution_count": 26,
   "metadata": {},
   "outputs": [
    {
     "data": {
      "text/plain": [
       "10000"
      ]
     },
     "execution_count": 26,
     "metadata": {},
     "output_type": "execute_result"
    }
   ],
   "source": [
    "words = text_vectorizer.get_vocabulary()\n",
    "len(words)"
   ]
  },
  {
   "cell_type": "markdown",
   "metadata": {},
   "source": [
    "# Creating an Embedding using an Embedding Layer\n",
    "To make our embedding we're going to use TensorFlow's embedding layer\n",
    "\n",
    "The parameters we care most about for our embedding layer:\n",
    "\n",
    "- input_dim = the size of our vocabulary\n",
    "- output_dim = the size of output embedding vector, \n",
    "  for example, a value of 100 would mean each token gets represented by a vector 100 long\n",
    "- input_length = length of the sequences being passed to be embedding layer"
   ]
  },
  {
   "cell_type": "code",
   "execution_count": 27,
   "metadata": {},
   "outputs": [
    {
     "data": {
      "text/plain": [
       "<tensorflow.python.keras.layers.embeddings.Embedding at 0x7ff5716d1bb0>"
      ]
     },
     "execution_count": 27,
     "metadata": {},
     "output_type": "execute_result"
    }
   ],
   "source": [
    "from tensorflow.keras import layers\n",
    "\n",
    "embedding = layers.Embedding(input_dim=max_vocab_length,\n",
    "                            output_dim=128,\n",
    "                            embeddings_initializer='uniform',\n",
    "                            input_length=max_length)\n",
    "embedding"
   ]
  },
  {
   "cell_type": "code",
   "execution_count": 28,
   "metadata": {},
   "outputs": [
    {
     "name": "stdout",
     "output_type": "stream",
     "text": [
      "Original text:\n",
      "Trump, dogged at home, begins longest presidential Asia trip in yearsHONOLULU (Reuters) - President Donald Trump arrived in Hawaii on Friday as he set out on the longest trip to Asia by an American president in more than a quarter century, looking for help to pressure North Korea to stand down from a nuclear crisis. After Air Force One landed at Joint Base Hickam, Trump and his wife, Melania, were draped with traditional lei necklaces. Trump went on to nearby Camp Smith for a classified briefing from Pacific Command military leaders that officials expected would touch on North Korea and other areas. Later, he was to visit Pearl Harbor and the USS Arizona memorial for the U.S. sailors killed when Japan bombed the American naval base on Dec. 7, 1941. Trump s 12-day trip to Japan, South Korea, China, Vietnam and the Philippines, ending on Nov. 14, takes him out of Washington at a time when he has been beset by several issues. These include an intensifying federal investigation into Russian meddling in last year s election, New York s recovery from an attack earlier this week that killed eight people, and debate over a Republican tax-cut plan that if approved by Congress would be Trump s first major legislative victory. The trip began just days after Trump s former campaign manager Paul Manafort was indicted in the investigation into Russian meddling in the 2016 presidential election and after his attorney general, Jeff Sessions, faced Democratic calls to appear before Congress again to clarify his previous testimony about the campaign s Russia contacts. Amid the furor caused by the revelations, the Kremlin said on Friday that a meeting between Trump and Russian President Vladimir Putin at an Asian economic summit next week was being discussed, and Trump said it might happen.  We may have a meeting with Putin,  Trump told Fox News.  And, again   Putin is very important because they can help us with North Korea. They can help us with Syria. We have to talk about Ukraine.  Court documents made public on Monday also disclosed that a Trump campaign foreign policy adviser, George Papadopoulos, pleaded guilty early last month to lying to the Federal Bureau of Investigation. The documents cited a March 2016 meeting, when Trump was campaigning for the presidency, and attended by Trump and Sessions, in which Papadopoulos offered to help arrange a meeting between Trump and Putin. While Trump tweeted about developments vigorously this week, he told The New York Times on Wednesday that he was  not angry at anybody  about the case and there was nothing to suggest any collusion by his campaign and Russia. Trump s plan for an extended absence from Washington has alarmed allies who, after seeing a healthcare reform bid fizzle, worry the tax effort could suffer without Trump to keep momentum going. On Saturday, Trump is to fly to Japan and later visit South Korea in search of a united front against North Korea before going to Beijing, where he will push Chinese President Xi Jinping to get tougher with Pyongyang. In the Fox interview, Trump was asked if he planned to be tough on China over thorny issues including trade, intellectual property theft and subsidies.  You have to understand something - very important,  he responded.  We have a problem called North Korea.  Trump said Chinese President Xi Jinping  has been pretty terrific  in cutting Pyongyang off from banking and oil systems. He added that Japan had reason to be worried about North Korea and alluded to Japanese Prime Minister Shinzo Abe s campaign for a military buildup against that threat.  Well, you know Japan is a warrior nation,  he said.  I tell China and I tell everyone else that, listen, you re going to have yourself a big problem with Japan pretty soon if you allow this to continue with North Korea.  Trump will attend the Asia-Pacific Economic Cooperation summit in Danang, Vietnam, make a state visit to Hanoi and end his trip with the Association of South East Asia Nations summit in Manila. Trump told reporters before leaving on Friday that he would spend an extra day in the Philippines. The last time a U.S. president was in Asia for so long was in late 1991 and early 1992, when President George H.W. Bush became ill at a Japanese state dinner.       \n",
      "\n",
      "Embedd version: \n"
     ]
    },
    {
     "data": {
      "text/plain": [
       "<tf.Tensor: shape=(1, 418, 128), dtype=float32, numpy=\n",
       "array([[[-3.6284577e-02,  2.6802566e-02, -2.9766619e-02, ...,\n",
       "         -3.3848539e-02,  7.3826425e-03,  3.4435678e-02],\n",
       "        [-4.7455754e-02,  1.7596733e-02,  3.9457679e-03, ...,\n",
       "          1.0899950e-02,  4.4775914e-02,  1.7007578e-02],\n",
       "        [ 1.1038639e-02, -1.0514032e-02, -7.2458163e-03, ...,\n",
       "          4.9691211e-02, -4.6857011e-02, -4.6142783e-02],\n",
       "        ...,\n",
       "        [-4.2384923e-02,  2.8087284e-02, -2.9486204e-02, ...,\n",
       "         -1.4401328e-02,  6.0192458e-03,  8.7349042e-03],\n",
       "        [-3.5853840e-02,  5.2007325e-03,  9.7731836e-03, ...,\n",
       "         -2.7661776e-02, -4.6426725e-02,  2.1168534e-02],\n",
       "        [ 5.2474439e-05, -2.4543822e-02,  2.0082701e-02, ...,\n",
       "         -1.2007069e-02, -1.7852165e-02,  1.0801852e-02]]], dtype=float32)>"
      ]
     },
     "execution_count": 28,
     "metadata": {},
     "output_type": "execute_result"
    }
   ],
   "source": [
    "# Get a random sentence from the training set\n",
    "random_sentenc = random.choice(train_sentences)\n",
    "print(f\"Original text:\\n{random_sentence}\\\n",
    "      \\n\\nEmbedd version: \")\n",
    "embedding(text_vectorizer([random_sentence]))"
   ]
  },
  {
   "cell_type": "markdown",
   "metadata": {},
   "source": [
    "# Model\n",
    "We will be using LSTM(long-short term memory) neural network."
   ]
  },
  {
   "cell_type": "code",
   "execution_count": 29,
   "metadata": {},
   "outputs": [],
   "source": [
    "from tensorflow.keras import layers\n",
    "inputs = layers.Input(shape=(1,),dtype='string')\n",
    "\n",
    "# Pass inputs to text_vectorizer(convert text into numbers)\n",
    "x = text_vectorizer(inputs) \n",
    "\n",
    "# Convert text_vectorizer layer into embedding layer\n",
    "x = embedding(x)\n",
    "\n",
    "# Model \n",
    "x = layers.LSTM(64)(x)\n",
    "\n",
    "\n",
    "# output\n",
    "outputs = layers.Dense(1, activation='sigmoid')(x)\n",
    "\n",
    "# Pass inputs and outputs to our model\n",
    "model = tf.keras.Model(inputs, outputs, name='model_LSTM')"
   ]
  },
  {
   "cell_type": "code",
   "execution_count": 30,
   "metadata": {},
   "outputs": [
    {
     "name": "stdout",
     "output_type": "stream",
     "text": [
      "Model: \"model_LSTM\"\n",
      "_________________________________________________________________\n",
      "Layer (type)                 Output Shape              Param #   \n",
      "=================================================================\n",
      "input_1 (InputLayer)         [(None, 1)]               0         \n",
      "_________________________________________________________________\n",
      "text_vectorization (TextVect (None, 418)               0         \n",
      "_________________________________________________________________\n",
      "embedding (Embedding)        (None, 418, 128)          1280000   \n",
      "_________________________________________________________________\n",
      "lstm (LSTM)                  (None, 64)                49408     \n",
      "_________________________________________________________________\n",
      "dense (Dense)                (None, 1)                 65        \n",
      "=================================================================\n",
      "Total params: 1,329,473\n",
      "Trainable params: 1,329,473\n",
      "Non-trainable params: 0\n",
      "_________________________________________________________________\n"
     ]
    }
   ],
   "source": [
    "model.summary()"
   ]
  },
  {
   "cell_type": "code",
   "execution_count": 31,
   "metadata": {},
   "outputs": [],
   "source": [
    "# Compile the model\n",
    "model.compile(loss='binary_crossentropy',\n",
    "             optimizer=tf.keras.optimizers.Adam(),\n",
    "             metrics=['accuracy'])"
   ]
  },
  {
   "cell_type": "code",
   "execution_count": 32,
   "metadata": {},
   "outputs": [
    {
     "name": "stdout",
     "output_type": "stream",
     "text": [
      "Epoch 1/5\n",
      "1123/1123 [==============================] - 396s 350ms/step - loss: 0.5155 - accuracy: 0.7257 - val_loss: 0.2363 - val_accuracy: 0.9269\n",
      "Epoch 2/5\n",
      "1123/1123 [==============================] - 476s 424ms/step - loss: 0.2058 - accuracy: 0.9380 - val_loss: 0.1961 - val_accuracy: 0.9454\n",
      "Epoch 3/5\n",
      "1123/1123 [==============================] - 532s 473ms/step - loss: 0.2304 - accuracy: 0.9298 - val_loss: 0.1984 - val_accuracy: 0.9233\n",
      "Epoch 4/5\n",
      "1123/1123 [==============================] - 565s 504ms/step - loss: 0.1369 - accuracy: 0.9590 - val_loss: 0.0336 - val_accuracy: 0.9911\n",
      "Epoch 5/5\n",
      "1123/1123 [==============================] - 546s 486ms/step - loss: 0.0329 - accuracy: 0.9903 - val_loss: 0.0342 - val_accuracy: 0.9906\n"
     ]
    }
   ],
   "source": [
    "# Fit the model\n",
    "model_history = model.fit(train_sentences,\n",
    "                         train_labels,\n",
    "                          epochs=5,\n",
    "                         validation_data=(val_sentences, val_labels))\n"
   ]
  },
  {
   "cell_type": "markdown",
   "metadata": {},
   "source": [
    "# We got 99% accuracy on valid data"
   ]
  },
  {
   "cell_type": "code",
   "execution_count": 33,
   "metadata": {},
   "outputs": [
    {
     "data": {
      "text/plain": [
       "array([[6.6545606e-04],\n",
       "       [1.2152493e-03],\n",
       "       [9.9984300e-01],\n",
       "       [9.9394214e-01],\n",
       "       [9.9880469e-01],\n",
       "       [2.0289719e-03],\n",
       "       [3.3643860e-01],\n",
       "       [1.4561772e-02],\n",
       "       [1.0094941e-03],\n",
       "       [9.9880457e-01]], dtype=float32)"
      ]
     },
     "execution_count": 33,
     "metadata": {},
     "output_type": "execute_result"
    }
   ],
   "source": [
    "# Make predictions \n",
    "model_prediction = model.predict(val_sentences)\n",
    "model_prediction[:10]"
   ]
  },
  {
   "cell_type": "code",
   "execution_count": 34,
   "metadata": {},
   "outputs": [
    {
     "data": {
      "text/plain": [
       "<tf.Tensor: shape=(10,), dtype=float32, numpy=array([0., 0., 1., 1., 1., 0., 0., 0., 0., 1.], dtype=float32)>"
      ]
     },
     "execution_count": 34,
     "metadata": {},
     "output_type": "execute_result"
    }
   ],
   "source": [
    "# Convert model prediction to our val_labels\n",
    "model_preds = tf.squeeze(tf.round(model_prediction))\n",
    "model_preds[:10]\n"
   ]
  },
  {
   "cell_type": "code",
   "execution_count": 35,
   "metadata": {},
   "outputs": [
    {
     "name": "stdout",
     "output_type": "stream",
     "text": [
      "Accuracy Score: 0.9906458797327394\n",
      "Recall Score : 0.9920882781594836\n",
      "Precsion Score : 0.9904385782581584\n",
      "f1 Score : 0.9912627418348241\n"
     ]
    }
   ],
   "source": [
    "# Evaluatinon metrics\n",
    "from sklearn.metrics import accuracy_score, recall_score,precision_score, f1_score\n",
    "\n",
    "print(f\"Accuracy Score: {accuracy_score(val_labels,model_preds)}\")\n",
    "print(f\"Recall Score : {recall_score(val_labels, model_preds)}\")\n",
    "print(f\"Precsion Score : {precision_score(val_labels, model_preds)}\")\n",
    "print(f\"f1 Score : {f1_score(val_labels, model_preds)}\")\n"
   ]
  },
  {
   "cell_type": "markdown",
   "metadata": {},
   "source": [
    "References for Feature Engineering and EDA: https://www.kaggle.com/suvofalcon/fake-real-news-tensorflow-hub-99-accuracy"
   ]
  }
 ],
 "metadata": {
  "kernelspec": {
   "display_name": "Python 3",
   "language": "python",
   "name": "python3"
  },
  "language_info": {
   "codemirror_mode": {
    "name": "ipython",
    "version": 3
   },
   "file_extension": ".py",
   "mimetype": "text/x-python",
   "name": "python",
   "nbconvert_exporter": "python",
   "pygments_lexer": "ipython3",
   "version": "3.8.5"
  }
 },
 "nbformat": 4,
 "nbformat_minor": 4
}
